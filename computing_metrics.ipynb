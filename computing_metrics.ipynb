{
 "cells": [
  {
   "cell_type": "code",
   "execution_count": 3,
   "id": "1b5ff852",
   "metadata": {},
   "outputs": [],
   "source": [
    "import networkx as nx\n",
    "import pandas as pd\n",
    "import SimpleITK as sitk"
   ]
  },
  {
   "cell_type": "code",
   "execution_count": 4,
   "id": "ed39f614",
   "metadata": {},
   "outputs": [],
   "source": [
    "import cv2\n",
    "import math\n",
    "import scipy\n",
    "import skimage\n",
    "\n",
    "import numpy as np\n",
    "\n",
    "from numba import jit\n",
    "from scipy import signal, sparse, stats\n",
    "from skimage.morphology._util import _raveled_offsets_and_distances\n",
    "from skimage.util._map_array import map_array\n",
    "from skimage.graph._graph import _weighted_abs_diff\n",
    "from sklearn.cluster import KMeans,AgglomerativeClustering  # USAR EL DE RAPIDS\n",
    "from typing import Optional, Callable\n",
    "from skimage import measure\n",
    "from sklearn.feature_extraction.image import grid_to_graph"
   ]
  },
  {
   "cell_type": "code",
   "execution_count": 6,
   "id": "5a778bef",
   "metadata": {},
   "outputs": [
    {
     "name": "stdout",
     "output_type": "stream",
     "text": [
      "Spectralis TRAIN044 segmentation_.mhd\n"
     ]
    },
    {
     "name": "stderr",
     "output_type": "stream",
     "text": [
      "/home/joaquin/anaconda3/envs/improject/lib/python3.7/site-packages/ipykernel_launcher.py:32: RuntimeWarning: invalid value encountered in double_scalars\n",
      "/home/joaquin/anaconda3/envs/improject/lib/python3.7/site-packages/ipykernel_launcher.py:34: RuntimeWarning: invalid value encountered in double_scalars\n"
     ]
    },
    {
     "name": "stdout",
     "output_type": "stream",
     "text": [
      "Spectralis TRAIN031 segmentation_.mhd\n"
     ]
    },
    {
     "name": "stderr",
     "output_type": "stream",
     "text": [
      "/home/joaquin/anaconda3/envs/improject/lib/python3.7/site-packages/ipykernel_launcher.py:30: RuntimeWarning: invalid value encountered in double_scalars\n"
     ]
    },
    {
     "name": "stdout",
     "output_type": "stream",
     "text": [
      "Spectralis TRAIN025 segmentation_.mhd\n"
     ]
    }
   ],
   "source": [
    "metrics_fluid_slice = pd.DataFrame(\n",
    "    columns = ['manufacturer', 'case', 'slice', 'w_gt', 'dice', 'acc', 'sens', 'prec', 'fraction', 'fluids']\n",
    ")\n",
    "\n",
    "metrics_fluid =  metrics_fluid_slice.copy()\n",
    "\n",
    "def line_metrics(manufacturer, case, i, ref, seg, vol=False):\n",
    "    ref_neg = np.abs(ref-1)\n",
    "    seg_neg = np.abs(seg-1)\n",
    "    fluids = len(np.unique(ref_neg))\n",
    "    if vol:\n",
    "        return {\n",
    "            'manufacturer': manufacturer,\n",
    "            'case': case,\n",
    "            'w_gt': ref.any(),\n",
    "            'slice': i,\n",
    "            'dice': np.sum(seg[ref==1])*2.0 / (np.sum(ref) + np.sum(seg)),\n",
    "            'acc': (np.sum(seg[ref==1]) + np.sum(seg_neg[ref_neg==1])) / (ref.shape[0]*ref.shape[1]*ref.shape[2]), \n",
    "            'sens': np.sum(seg[ref==1]) / np.sum(ref), \n",
    "            'spec': np.sum(seg_neg[ref_neg==1]) / np.sum(ref_neg),\n",
    "            'prec': np.sum(seg[ref==1]) / np.sum(seg),\n",
    "            'fraction': np.sum(ref) / (ref.shape[0]*ref.shape[1]*ref.shape[2]),\n",
    "            'fluids': fluids\n",
    "        }\n",
    "    return {\n",
    "        'manufacturer': manufacturer,\n",
    "        'case': case,\n",
    "        'w_gt': ref.any(),\n",
    "        'slice': i,\n",
    "        'dice': np.sum(seg[ref==1])*2.0 / (np.sum(ref) + np.sum(seg)),\n",
    "        'acc': (np.sum(seg[ref==1]) + np.sum(seg_neg[ref_neg==1])) / (ref.shape[0]*ref.shape[1]), \n",
    "        'sens': np.sum(seg[ref==1]) / np.sum(ref), \n",
    "        'spec': np.sum(seg_neg[ref_neg==1]) / np.sum(ref_neg),\n",
    "        'prec': np.sum(seg[ref==1]) / np.sum(seg),\n",
    "        'fraction': np.sum(ref) / (ref.shape[0]*ref.shape[1]),\n",
    "        'fluids': fluids\n",
    "    }\n",
    "    \n",
    "\n",
    "import os\n",
    "for root, dirs, files in os.walk(\"../data/\"):\n",
    "    for file in files:\n",
    "        if file.endswith(\"segmentation_.mhd\"):\n",
    "            manufacturer = root.split('/')[-2]\n",
    "            manufacturer = manufacturer.split('-')[-1]\n",
    "            case = root.split('/')[-1]\n",
    "            \n",
    "            print(manufacturer, case, file)\n",
    "            \n",
    "            segm_mhd = os.path.join(root, file)\n",
    "            ref_mhd = os.path.join(root, 'reference.mhd')\n",
    "            \n",
    "            seg_itk = sitk.ReadImage(segm_mhd)\n",
    "            ref_itk = sitk.ReadImage(ref_mhd)\n",
    "            seg_vol = sitk.GetArrayFromImage(seg_itk)\n",
    "            ref_vol = sitk.GetArrayFromImage(ref_itk)\n",
    "            \n",
    "            # Metrics all fluids\n",
    "            ref_vol = np.where(ref_vol!=0,1,0)\n",
    "            for i in range(ref_vol.shape[0]):\n",
    "                row = line_metrics(manufacturer, case, i, ref_vol[i,...], seg_vol[i,...])\n",
    "                metrics_fluid_slice = metrics_fluid_slice.append(row, ignore_index=True)\n",
    "                metrics_fluid_slice.to_csv('/dices_all_slice_fluid.csv')\n",
    "            row = line_metrics(manufacturer, case, i, ref_vol, seg_vol, vol=True)\n",
    "            metrics_fluid = metrics_fluid.append(row, ignore_index=True)\n",
    "            metrics_fluid.to_csv('../dices_all_fluid.csv')\n",
    "            \n",
    "#             # Metrics IRF\n",
    "#             seg_vol = sitk.GetArrayFromImage(seg_itk)\n",
    "#             ref_vol = sitk.GetArrayFromImage(ref_itk)\n",
    "#             ref_vol = np.where(ref_vol!=1, 0, 1)\n",
    "#             for i in range(ref_vol.shape[0]):\n",
    "#                 row = line_metrics(manufacturer, case, i, ref_vol[i,...], seg_vol[i,...])\n",
    "#                 metrics_fluid_slice = metrics_fluid_slice.append(row, ignore_index=True)\n",
    "#                 metrics_fluid_slice.to_csv('../dices_all_slice_fluid_IRF.csv')\n",
    "#             row = line_metrics(manufacturer, case, i, ref_vol, seg_vol)\n",
    "#             metrics_fluid = metrics_fluid.append(row, ignore_index=True)\n",
    "#             metrics_fluid.to_csv('../dices_all_fluid_IRF.csv')\n",
    "            \n",
    "#             # Metrics SRF\n",
    "#             seg_vol = sitk.GetArrayFromImage(seg_itk)\n",
    "#             ref_vol = sitk.GetArrayFromImage(ref_itk)\n",
    "#             ref_vol = np.where(ref_vol!=2, 0, 1)\n",
    "#             for i in range(ref_vol.shape[0]):\n",
    "#                 row = line_metrics(manufacturer, case, i, ref_vol[i,...], seg_vol[i,...])\n",
    "#                 metrics_fluid_slice = metrics_fluid_slice.append(row, ignore_index=True)\n",
    "#                 metrics_fluid_slice.to_csv('../dices_all_slice_fluid_SRF.csv')\n",
    "#             row = line_metrics(manufacturer, case, i, ref_vol, seg_vol)\n",
    "#             metrics_fluid = metrics_fluid.append(row, ignore_index=True)\n",
    "#             metrics_fluid.to_csv('../dices_all_fluid_SRF.csv')\n",
    "            \n",
    "#             # Metrics PED\n",
    "#             seg_vol = sitk.GetArrayFromImage(seg_itk)\n",
    "#             ref_vol = sitk.GetArrayFromImage(ref_itk)\n",
    "#             ref_vol = np.where(ref_vol!=3, 0, 1)\n",
    "#             for i in range(ref_vol.shape[0]):\n",
    "#                 row = line_metrics(manufacturer, case, i, ref_vol[i,...], seg_vol[i,...])\n",
    "#                 metrics_fluid_slice = metrics_fluid_slice.append(row, ignore_index=True)\n",
    "#                 metrics_fluid_slice.to_csv('../dices_all_slice_PED.csv')\n",
    "#             row = line_metrics(manufacturer, case, i, ref_vol, seg_vol)\n",
    "#             metrics_fluid = metrics_fluid.append(row, ignore_index=True)\n",
    "#             metrics_fluid.to_csv('../dices_all_fluid_PED.csv')"
   ]
  },
  {
   "cell_type": "code",
   "execution_count": 7,
   "id": "73d89e5e",
   "metadata": {},
   "outputs": [
    {
     "data": {
      "text/html": [
       "<div>\n",
       "<style scoped>\n",
       "    .dataframe tbody tr th:only-of-type {\n",
       "        vertical-align: middle;\n",
       "    }\n",
       "\n",
       "    .dataframe tbody tr th {\n",
       "        vertical-align: top;\n",
       "    }\n",
       "\n",
       "    .dataframe thead th {\n",
       "        text-align: right;\n",
       "    }\n",
       "</style>\n",
       "<table border=\"1\" class=\"dataframe\">\n",
       "  <thead>\n",
       "    <tr style=\"text-align: right;\">\n",
       "      <th></th>\n",
       "      <th>manufacturer</th>\n",
       "      <th>case</th>\n",
       "      <th>slice</th>\n",
       "      <th>w_gt</th>\n",
       "      <th>dice</th>\n",
       "      <th>acc</th>\n",
       "      <th>sens</th>\n",
       "      <th>prec</th>\n",
       "      <th>fraction</th>\n",
       "      <th>fluids</th>\n",
       "      <th>spec</th>\n",
       "    </tr>\n",
       "  </thead>\n",
       "  <tbody>\n",
       "    <tr>\n",
       "      <th>0</th>\n",
       "      <td>Spectralis</td>\n",
       "      <td>TRAIN044</td>\n",
       "      <td>48</td>\n",
       "      <td>True</td>\n",
       "      <td>0.629359</td>\n",
       "      <td>0.977670</td>\n",
       "      <td>0.476632</td>\n",
       "      <td>0.926111</td>\n",
       "      <td>0.039776</td>\n",
       "      <td>2</td>\n",
       "      <td>0.998425</td>\n",
       "    </tr>\n",
       "    <tr>\n",
       "      <th>1</th>\n",
       "      <td>Spectralis</td>\n",
       "      <td>TRAIN031</td>\n",
       "      <td>48</td>\n",
       "      <td>True</td>\n",
       "      <td>0.000000</td>\n",
       "      <td>0.995311</td>\n",
       "      <td>0.000000</td>\n",
       "      <td>0.000000</td>\n",
       "      <td>0.003420</td>\n",
       "      <td>2</td>\n",
       "      <td>0.998727</td>\n",
       "    </tr>\n",
       "    <tr>\n",
       "      <th>2</th>\n",
       "      <td>Spectralis</td>\n",
       "      <td>TRAIN025</td>\n",
       "      <td>48</td>\n",
       "      <td>True</td>\n",
       "      <td>0.439424</td>\n",
       "      <td>0.989507</td>\n",
       "      <td>0.318768</td>\n",
       "      <td>0.707046</td>\n",
       "      <td>0.012902</td>\n",
       "      <td>2</td>\n",
       "      <td>0.998274</td>\n",
       "    </tr>\n",
       "  </tbody>\n",
       "</table>\n",
       "</div>"
      ],
      "text/plain": [
       "  manufacturer      case slice  w_gt      dice       acc      sens      prec  \\\n",
       "0   Spectralis  TRAIN044    48  True  0.629359  0.977670  0.476632  0.926111   \n",
       "1   Spectralis  TRAIN031    48  True  0.000000  0.995311  0.000000  0.000000   \n",
       "2   Spectralis  TRAIN025    48  True  0.439424  0.989507  0.318768  0.707046   \n",
       "\n",
       "   fraction fluids      spec  \n",
       "0  0.039776      2  0.998425  \n",
       "1  0.003420      2  0.998727  \n",
       "2  0.012902      2  0.998274  "
      ]
     },
     "execution_count": 7,
     "metadata": {},
     "output_type": "execute_result"
    }
   ],
   "source": [
    "metrics_fluid"
   ]
  },
  {
   "cell_type": "code",
   "execution_count": 1,
   "id": "04d7eb6c",
   "metadata": {},
   "outputs": [],
   "source": [
    "import pandas as pd\n",
    "metrics_fluid = pd.read_csv('../dices_all_fluid.csv')"
   ]
  },
  {
   "cell_type": "code",
   "execution_count": 2,
   "id": "23ed9811",
   "metadata": {
    "scrolled": true
   },
   "outputs": [
    {
     "data": {
      "text/html": [
       "<div>\n",
       "<style scoped>\n",
       "    .dataframe tbody tr th:only-of-type {\n",
       "        vertical-align: middle;\n",
       "    }\n",
       "\n",
       "    .dataframe tbody tr th {\n",
       "        vertical-align: top;\n",
       "    }\n",
       "\n",
       "    .dataframe thead th {\n",
       "        text-align: right;\n",
       "    }\n",
       "</style>\n",
       "<table border=\"1\" class=\"dataframe\">\n",
       "  <thead>\n",
       "    <tr style=\"text-align: right;\">\n",
       "      <th></th>\n",
       "      <th>Unnamed: 0</th>\n",
       "      <th>manufacturer</th>\n",
       "      <th>case</th>\n",
       "      <th>slice</th>\n",
       "      <th>w_gt</th>\n",
       "      <th>dice</th>\n",
       "      <th>acc</th>\n",
       "      <th>sens</th>\n",
       "      <th>prec</th>\n",
       "      <th>fraction</th>\n",
       "      <th>fluids</th>\n",
       "      <th>spec</th>\n",
       "    </tr>\n",
       "  </thead>\n",
       "  <tbody>\n",
       "    <tr>\n",
       "      <th>0</th>\n",
       "      <td>0</td>\n",
       "      <td>Spectralis</td>\n",
       "      <td>TRAIN032</td>\n",
       "      <td>48</td>\n",
       "      <td>True</td>\n",
       "      <td>0.429934</td>\n",
       "      <td>484.210747</td>\n",
       "      <td>0.448882</td>\n",
       "      <td>0.412521</td>\n",
       "      <td>23.344882</td>\n",
       "      <td>2</td>\n",
       "      <td>0.969460</td>\n",
       "    </tr>\n",
       "    <tr>\n",
       "      <th>1</th>\n",
       "      <td>1</td>\n",
       "      <td>Spectralis</td>\n",
       "      <td>TRAIN046</td>\n",
       "      <td>48</td>\n",
       "      <td>True</td>\n",
       "      <td>0.075262</td>\n",
       "      <td>500.021437</td>\n",
       "      <td>0.047705</td>\n",
       "      <td>0.178199</td>\n",
       "      <td>10.218030</td>\n",
       "      <td>2</td>\n",
       "      <td>0.995520</td>\n",
       "    </tr>\n",
       "    <tr>\n",
       "      <th>2</th>\n",
       "      <td>2</td>\n",
       "      <td>Spectralis</td>\n",
       "      <td>TRAIN027</td>\n",
       "      <td>48</td>\n",
       "      <td>True</td>\n",
       "      <td>0.473946</td>\n",
       "      <td>501.552872</td>\n",
       "      <td>0.571436</td>\n",
       "      <td>0.404872</td>\n",
       "      <td>8.235640</td>\n",
       "      <td>2</td>\n",
       "      <td>0.986268</td>\n",
       "    </tr>\n",
       "    <tr>\n",
       "      <th>3</th>\n",
       "      <td>3</td>\n",
       "      <td>Spectralis</td>\n",
       "      <td>TRAIN038</td>\n",
       "      <td>48</td>\n",
       "      <td>True</td>\n",
       "      <td>0.455520</td>\n",
       "      <td>497.619281</td>\n",
       "      <td>0.448872</td>\n",
       "      <td>0.462368</td>\n",
       "      <td>13.401498</td>\n",
       "      <td>2</td>\n",
       "      <td>0.985971</td>\n",
       "    </tr>\n",
       "    <tr>\n",
       "      <th>4</th>\n",
       "      <td>4</td>\n",
       "      <td>Spectralis</td>\n",
       "      <td>TRAIN035</td>\n",
       "      <td>48</td>\n",
       "      <td>True</td>\n",
       "      <td>0.601992</td>\n",
       "      <td>499.842865</td>\n",
       "      <td>0.557081</td>\n",
       "      <td>0.654780</td>\n",
       "      <td>16.503744</td>\n",
       "      <td>2</td>\n",
       "      <td>0.990217</td>\n",
       "    </tr>\n",
       "    <tr>\n",
       "      <th>5</th>\n",
       "      <td>5</td>\n",
       "      <td>Spectralis</td>\n",
       "      <td>TRAIN044</td>\n",
       "      <td>48</td>\n",
       "      <td>True</td>\n",
       "      <td>0.582109</td>\n",
       "      <td>498.380925</td>\n",
       "      <td>0.465767</td>\n",
       "      <td>0.775925</td>\n",
       "      <td>20.365290</td>\n",
       "      <td>2</td>\n",
       "      <td>0.994428</td>\n",
       "    </tr>\n",
       "    <tr>\n",
       "      <th>6</th>\n",
       "      <td>6</td>\n",
       "      <td>Spectralis</td>\n",
       "      <td>TRAIN039</td>\n",
       "      <td>48</td>\n",
       "      <td>True</td>\n",
       "      <td>0.378865</td>\n",
       "      <td>503.374465</td>\n",
       "      <td>0.541933</td>\n",
       "      <td>0.291233</td>\n",
       "      <td>4.854098</td>\n",
       "      <td>2</td>\n",
       "      <td>0.987376</td>\n",
       "    </tr>\n",
       "    <tr>\n",
       "      <th>7</th>\n",
       "      <td>7</td>\n",
       "      <td>Spectralis</td>\n",
       "      <td>TRAIN033</td>\n",
       "      <td>48</td>\n",
       "      <td>True</td>\n",
       "      <td>0.293609</td>\n",
       "      <td>504.893598</td>\n",
       "      <td>0.217416</td>\n",
       "      <td>0.452020</td>\n",
       "      <td>6.792874</td>\n",
       "      <td>2</td>\n",
       "      <td>0.996456</td>\n",
       "    </tr>\n",
       "    <tr>\n",
       "      <th>8</th>\n",
       "      <td>8</td>\n",
       "      <td>Spectralis</td>\n",
       "      <td>TRAIN048</td>\n",
       "      <td>48</td>\n",
       "      <td>True</td>\n",
       "      <td>0.183703</td>\n",
       "      <td>500.592330</td>\n",
       "      <td>0.495733</td>\n",
       "      <td>0.112741</td>\n",
       "      <td>2.589327</td>\n",
       "      <td>2</td>\n",
       "      <td>0.980169</td>\n",
       "    </tr>\n",
       "    <tr>\n",
       "      <th>9</th>\n",
       "      <td>9</td>\n",
       "      <td>Spectralis</td>\n",
       "      <td>TRAIN028</td>\n",
       "      <td>48</td>\n",
       "      <td>True</td>\n",
       "      <td>0.071738</td>\n",
       "      <td>507.668367</td>\n",
       "      <td>0.106842</td>\n",
       "      <td>0.053997</td>\n",
       "      <td>1.566615</td>\n",
       "      <td>2</td>\n",
       "      <td>0.994255</td>\n",
       "    </tr>\n",
       "    <tr>\n",
       "      <th>10</th>\n",
       "      <td>10</td>\n",
       "      <td>Spectralis</td>\n",
       "      <td>TRAIN036</td>\n",
       "      <td>48</td>\n",
       "      <td>True</td>\n",
       "      <td>0.238375</td>\n",
       "      <td>500.993417</td>\n",
       "      <td>0.626442</td>\n",
       "      <td>0.147193</td>\n",
       "      <td>2.749547</td>\n",
       "      <td>2</td>\n",
       "      <td>0.980404</td>\n",
       "    </tr>\n",
       "    <tr>\n",
       "      <th>11</th>\n",
       "      <td>11</td>\n",
       "      <td>Spectralis</td>\n",
       "      <td>TRAIN040</td>\n",
       "      <td>48</td>\n",
       "      <td>True</td>\n",
       "      <td>0.285297</td>\n",
       "      <td>498.115084</td>\n",
       "      <td>0.730616</td>\n",
       "      <td>0.177257</td>\n",
       "      <td>3.793120</td>\n",
       "      <td>2</td>\n",
       "      <td>0.974689</td>\n",
       "    </tr>\n",
       "    <tr>\n",
       "      <th>12</th>\n",
       "      <td>12</td>\n",
       "      <td>Spectralis</td>\n",
       "      <td>TRAIN026</td>\n",
       "      <td>48</td>\n",
       "      <td>True</td>\n",
       "      <td>0.487562</td>\n",
       "      <td>508.739426</td>\n",
       "      <td>0.743555</td>\n",
       "      <td>0.362693</td>\n",
       "      <td>2.086118</td>\n",
       "      <td>2</td>\n",
       "      <td>0.994655</td>\n",
       "    </tr>\n",
       "    <tr>\n",
       "      <th>13</th>\n",
       "      <td>13</td>\n",
       "      <td>Spectralis</td>\n",
       "      <td>TRAIN034</td>\n",
       "      <td>48</td>\n",
       "      <td>True</td>\n",
       "      <td>0.019715</td>\n",
       "      <td>505.698815</td>\n",
       "      <td>0.143203</td>\n",
       "      <td>0.010586</td>\n",
       "      <td>0.442479</td>\n",
       "      <td>2</td>\n",
       "      <td>0.988423</td>\n",
       "    </tr>\n",
       "    <tr>\n",
       "      <th>14</th>\n",
       "      <td>14</td>\n",
       "      <td>Spectralis</td>\n",
       "      <td>TRAIN047</td>\n",
       "      <td>48</td>\n",
       "      <td>True</td>\n",
       "      <td>0.142318</td>\n",
       "      <td>503.237944</td>\n",
       "      <td>0.668255</td>\n",
       "      <td>0.079639</td>\n",
       "      <td>1.087846</td>\n",
       "      <td>2</td>\n",
       "      <td>0.983557</td>\n",
       "    </tr>\n",
       "    <tr>\n",
       "      <th>15</th>\n",
       "      <td>15</td>\n",
       "      <td>Spectralis</td>\n",
       "      <td>TRAIN030</td>\n",
       "      <td>48</td>\n",
       "      <td>True</td>\n",
       "      <td>0.319678</td>\n",
       "      <td>499.865948</td>\n",
       "      <td>0.303413</td>\n",
       "      <td>0.337786</td>\n",
       "      <td>9.395943</td>\n",
       "      <td>2</td>\n",
       "      <td>0.988880</td>\n",
       "    </tr>\n",
       "    <tr>\n",
       "      <th>16</th>\n",
       "      <td>16</td>\n",
       "      <td>Spectralis</td>\n",
       "      <td>TRAIN031</td>\n",
       "      <td>48</td>\n",
       "      <td>True</td>\n",
       "      <td>0.000056</td>\n",
       "      <td>507.561554</td>\n",
       "      <td>0.000070</td>\n",
       "      <td>0.000046</td>\n",
       "      <td>1.751276</td>\n",
       "      <td>2</td>\n",
       "      <td>0.994733</td>\n",
       "    </tr>\n",
       "    <tr>\n",
       "      <th>17</th>\n",
       "      <td>17</td>\n",
       "      <td>Spectralis</td>\n",
       "      <td>TRAIN043</td>\n",
       "      <td>48</td>\n",
       "      <td>True</td>\n",
       "      <td>0.240208</td>\n",
       "      <td>487.312747</td>\n",
       "      <td>0.333688</td>\n",
       "      <td>0.187642</td>\n",
       "      <td>11.694906</td>\n",
       "      <td>2</td>\n",
       "      <td>0.966231</td>\n",
       "    </tr>\n",
       "    <tr>\n",
       "      <th>18</th>\n",
       "      <td>18</td>\n",
       "      <td>Spectralis</td>\n",
       "      <td>TRAIN025</td>\n",
       "      <td>48</td>\n",
       "      <td>True</td>\n",
       "      <td>0.260146</td>\n",
       "      <td>500.088545</td>\n",
       "      <td>0.317024</td>\n",
       "      <td>0.220572</td>\n",
       "      <td>6.605620</td>\n",
       "      <td>2</td>\n",
       "      <td>0.985358</td>\n",
       "    </tr>\n",
       "    <tr>\n",
       "      <th>19</th>\n",
       "      <td>19</td>\n",
       "      <td>Spectralis</td>\n",
       "      <td>TRAIN029</td>\n",
       "      <td>48</td>\n",
       "      <td>True</td>\n",
       "      <td>0.204179</td>\n",
       "      <td>505.599243</td>\n",
       "      <td>0.544279</td>\n",
       "      <td>0.125659</td>\n",
       "      <td>1.508599</td>\n",
       "      <td>2</td>\n",
       "      <td>0.988808</td>\n",
       "    </tr>\n",
       "    <tr>\n",
       "      <th>20</th>\n",
       "      <td>20</td>\n",
       "      <td>Spectralis</td>\n",
       "      <td>TRAIN042</td>\n",
       "      <td>48</td>\n",
       "      <td>True</td>\n",
       "      <td>0.439510</td>\n",
       "      <td>497.729921</td>\n",
       "      <td>0.299821</td>\n",
       "      <td>0.822909</td>\n",
       "      <td>18.661002</td>\n",
       "      <td>2</td>\n",
       "      <td>0.997559</td>\n",
       "    </tr>\n",
       "    <tr>\n",
       "      <th>21</th>\n",
       "      <td>21</td>\n",
       "      <td>Spectralis</td>\n",
       "      <td>TRAIN041</td>\n",
       "      <td>48</td>\n",
       "      <td>True</td>\n",
       "      <td>0.000408</td>\n",
       "      <td>505.353440</td>\n",
       "      <td>0.085938</td>\n",
       "      <td>0.000205</td>\n",
       "      <td>0.015800</td>\n",
       "      <td>2</td>\n",
       "      <td>0.987046</td>\n",
       "    </tr>\n",
       "    <tr>\n",
       "      <th>22</th>\n",
       "      <td>22</td>\n",
       "      <td>Spectralis</td>\n",
       "      <td>TRAIN045</td>\n",
       "      <td>48</td>\n",
       "      <td>True</td>\n",
       "      <td>0.111380</td>\n",
       "      <td>490.204123</td>\n",
       "      <td>0.449052</td>\n",
       "      <td>0.063574</td>\n",
       "      <td>3.041845</td>\n",
       "      <td>2</td>\n",
       "      <td>0.960468</td>\n",
       "    </tr>\n",
       "    <tr>\n",
       "      <th>23</th>\n",
       "      <td>23</td>\n",
       "      <td>Spectralis</td>\n",
       "      <td>TRAIN037</td>\n",
       "      <td>48</td>\n",
       "      <td>True</td>\n",
       "      <td>0.381409</td>\n",
       "      <td>494.463751</td>\n",
       "      <td>0.470433</td>\n",
       "      <td>0.320717</td>\n",
       "      <td>11.492018</td>\n",
       "      <td>2</td>\n",
       "      <td>0.977122</td>\n",
       "    </tr>\n",
       "  </tbody>\n",
       "</table>\n",
       "</div>"
      ],
      "text/plain": [
       "    Unnamed: 0 manufacturer      case  slice  w_gt      dice         acc  \\\n",
       "0            0   Spectralis  TRAIN032     48  True  0.429934  484.210747   \n",
       "1            1   Spectralis  TRAIN046     48  True  0.075262  500.021437   \n",
       "2            2   Spectralis  TRAIN027     48  True  0.473946  501.552872   \n",
       "3            3   Spectralis  TRAIN038     48  True  0.455520  497.619281   \n",
       "4            4   Spectralis  TRAIN035     48  True  0.601992  499.842865   \n",
       "5            5   Spectralis  TRAIN044     48  True  0.582109  498.380925   \n",
       "6            6   Spectralis  TRAIN039     48  True  0.378865  503.374465   \n",
       "7            7   Spectralis  TRAIN033     48  True  0.293609  504.893598   \n",
       "8            8   Spectralis  TRAIN048     48  True  0.183703  500.592330   \n",
       "9            9   Spectralis  TRAIN028     48  True  0.071738  507.668367   \n",
       "10          10   Spectralis  TRAIN036     48  True  0.238375  500.993417   \n",
       "11          11   Spectralis  TRAIN040     48  True  0.285297  498.115084   \n",
       "12          12   Spectralis  TRAIN026     48  True  0.487562  508.739426   \n",
       "13          13   Spectralis  TRAIN034     48  True  0.019715  505.698815   \n",
       "14          14   Spectralis  TRAIN047     48  True  0.142318  503.237944   \n",
       "15          15   Spectralis  TRAIN030     48  True  0.319678  499.865948   \n",
       "16          16   Spectralis  TRAIN031     48  True  0.000056  507.561554   \n",
       "17          17   Spectralis  TRAIN043     48  True  0.240208  487.312747   \n",
       "18          18   Spectralis  TRAIN025     48  True  0.260146  500.088545   \n",
       "19          19   Spectralis  TRAIN029     48  True  0.204179  505.599243   \n",
       "20          20   Spectralis  TRAIN042     48  True  0.439510  497.729921   \n",
       "21          21   Spectralis  TRAIN041     48  True  0.000408  505.353440   \n",
       "22          22   Spectralis  TRAIN045     48  True  0.111380  490.204123   \n",
       "23          23   Spectralis  TRAIN037     48  True  0.381409  494.463751   \n",
       "\n",
       "        sens      prec   fraction  fluids      spec  \n",
       "0   0.448882  0.412521  23.344882       2  0.969460  \n",
       "1   0.047705  0.178199  10.218030       2  0.995520  \n",
       "2   0.571436  0.404872   8.235640       2  0.986268  \n",
       "3   0.448872  0.462368  13.401498       2  0.985971  \n",
       "4   0.557081  0.654780  16.503744       2  0.990217  \n",
       "5   0.465767  0.775925  20.365290       2  0.994428  \n",
       "6   0.541933  0.291233   4.854098       2  0.987376  \n",
       "7   0.217416  0.452020   6.792874       2  0.996456  \n",
       "8   0.495733  0.112741   2.589327       2  0.980169  \n",
       "9   0.106842  0.053997   1.566615       2  0.994255  \n",
       "10  0.626442  0.147193   2.749547       2  0.980404  \n",
       "11  0.730616  0.177257   3.793120       2  0.974689  \n",
       "12  0.743555  0.362693   2.086118       2  0.994655  \n",
       "13  0.143203  0.010586   0.442479       2  0.988423  \n",
       "14  0.668255  0.079639   1.087846       2  0.983557  \n",
       "15  0.303413  0.337786   9.395943       2  0.988880  \n",
       "16  0.000070  0.000046   1.751276       2  0.994733  \n",
       "17  0.333688  0.187642  11.694906       2  0.966231  \n",
       "18  0.317024  0.220572   6.605620       2  0.985358  \n",
       "19  0.544279  0.125659   1.508599       2  0.988808  \n",
       "20  0.299821  0.822909  18.661002       2  0.997559  \n",
       "21  0.085938  0.000205   0.015800       2  0.987046  \n",
       "22  0.449052  0.063574   3.041845       2  0.960468  \n",
       "23  0.470433  0.320717  11.492018       2  0.977122  "
      ]
     },
     "execution_count": 2,
     "metadata": {},
     "output_type": "execute_result"
    }
   ],
   "source": [
    "metrics_fluid.loc[metrics_fluid.manufacturer == 'Spectralis']"
   ]
  },
  {
   "cell_type": "code",
   "execution_count": 57,
   "id": "70e314ea",
   "metadata": {},
   "outputs": [],
   "source": [
    "results = pd.DataFrame(columns=['Spectralis','Cirrus', 'Topcon'],\n",
    "             index=['mean_dice', 'std_dice', 'mean_sens', 'std_sens', 'mean_spec', 'std_spec'])"
   ]
  },
  {
   "cell_type": "code",
   "execution_count": 58,
   "id": "e8606e9a",
   "metadata": {},
   "outputs": [],
   "source": [
    "for i in ['Spectralis','Cirrus', 'Topcon']:\n",
    "    for j in ['dice','sens', 'spec']:\n",
    "        results.loc[f'mean_{j}', i] = metrics_fluid.loc[metrics_fluid.manufacturer == i, j].mean()\n",
    "        results.loc[f'std_{j}', i] = metrics_fluid.loc[metrics_fluid.manufacturer == i, j].std()"
   ]
  },
  {
   "cell_type": "code",
   "execution_count": 59,
   "id": "a8f267b3",
   "metadata": {},
   "outputs": [
    {
     "data": {
      "text/html": [
       "<div>\n",
       "<style scoped>\n",
       "    .dataframe tbody tr th:only-of-type {\n",
       "        vertical-align: middle;\n",
       "    }\n",
       "\n",
       "    .dataframe tbody tr th {\n",
       "        vertical-align: top;\n",
       "    }\n",
       "\n",
       "    .dataframe thead th {\n",
       "        text-align: right;\n",
       "    }\n",
       "</style>\n",
       "<table border=\"1\" class=\"dataframe\">\n",
       "  <thead>\n",
       "    <tr style=\"text-align: right;\">\n",
       "      <th></th>\n",
       "      <th>Spectralis</th>\n",
       "      <th>Cirrus</th>\n",
       "      <th>Topcon</th>\n",
       "    </tr>\n",
       "  </thead>\n",
       "  <tbody>\n",
       "    <tr>\n",
       "      <th>mean_dice</th>\n",
       "      <td>0.278205</td>\n",
       "      <td>0.20326</td>\n",
       "      <td>0.129316</td>\n",
       "    </tr>\n",
       "    <tr>\n",
       "      <th>std_dice</th>\n",
       "      <td>0.180801</td>\n",
       "      <td>0.165255</td>\n",
       "      <td>0.098525</td>\n",
       "    </tr>\n",
       "    <tr>\n",
       "      <th>mean_sens</th>\n",
       "      <td>0.400727</td>\n",
       "      <td>0.630844</td>\n",
       "      <td>0.539394</td>\n",
       "    </tr>\n",
       "    <tr>\n",
       "      <th>std_sens</th>\n",
       "      <td>0.215667</td>\n",
       "      <td>0.268515</td>\n",
       "      <td>0.382225</td>\n",
       "    </tr>\n",
       "    <tr>\n",
       "      <th>mean_spec</th>\n",
       "      <td>0.985336</td>\n",
       "      <td>0.96356</td>\n",
       "      <td>0.967557</td>\n",
       "    </tr>\n",
       "    <tr>\n",
       "      <th>std_spec</th>\n",
       "      <td>0.009893</td>\n",
       "      <td>0.013849</td>\n",
       "      <td>0.014238</td>\n",
       "    </tr>\n",
       "  </tbody>\n",
       "</table>\n",
       "</div>"
      ],
      "text/plain": [
       "          Spectralis    Cirrus    Topcon\n",
       "mean_dice   0.278205   0.20326  0.129316\n",
       "std_dice    0.180801  0.165255  0.098525\n",
       "mean_sens   0.400727  0.630844  0.539394\n",
       "std_sens    0.215667  0.268515  0.382225\n",
       "mean_spec   0.985336   0.96356  0.967557\n",
       "std_spec    0.009893  0.013849  0.014238"
      ]
     },
     "execution_count": 59,
     "metadata": {},
     "output_type": "execute_result"
    }
   ],
   "source": [
    "results"
   ]
  },
  {
   "cell_type": "code",
   "execution_count": 44,
   "id": "09c00053",
   "metadata": {},
   "outputs": [
    {
     "data": {
      "application/javascript": [
       "\n",
       "        if (window._pyforest_update_imports_cell) { window._pyforest_update_imports_cell('import seaborn as sns\\nimport matplotlib.pyplot as plt'); }\n",
       "    "
      ],
      "text/plain": [
       "<IPython.core.display.Javascript object>"
      ]
     },
     "metadata": {},
     "output_type": "display_data"
    },
    {
     "data": {
      "application/javascript": [
       "\n",
       "        if (window._pyforest_update_imports_cell) { window._pyforest_update_imports_cell('import seaborn as sns\\nimport matplotlib.pyplot as plt'); }\n",
       "    "
      ],
      "text/plain": [
       "<IPython.core.display.Javascript object>"
      ]
     },
     "metadata": {},
     "output_type": "display_data"
    },
    {
     "data": {
      "application/javascript": [
       "\n",
       "        if (window._pyforest_update_imports_cell) { window._pyforest_update_imports_cell('import seaborn as sns\\nimport matplotlib.pyplot as plt'); }\n",
       "    "
      ],
      "text/plain": [
       "<IPython.core.display.Javascript object>"
      ]
     },
     "metadata": {},
     "output_type": "display_data"
    },
    {
     "data": {
      "application/javascript": [
       "\n",
       "        if (window._pyforest_update_imports_cell) { window._pyforest_update_imports_cell('import seaborn as sns\\nimport matplotlib.pyplot as plt'); }\n",
       "    "
      ],
      "text/plain": [
       "<IPython.core.display.Javascript object>"
      ]
     },
     "metadata": {},
     "output_type": "display_data"
    },
    {
     "data": {
      "application/javascript": [
       "\n",
       "        if (window._pyforest_update_imports_cell) { window._pyforest_update_imports_cell('import seaborn as sns\\nimport matplotlib.pyplot as plt'); }\n",
       "    "
      ],
      "text/plain": [
       "<IPython.core.display.Javascript object>"
      ]
     },
     "metadata": {},
     "output_type": "display_data"
    },
    {
     "data": {
      "application/javascript": [
       "\n",
       "        if (window._pyforest_update_imports_cell) { window._pyforest_update_imports_cell('import seaborn as sns\\nimport matplotlib.pyplot as plt'); }\n",
       "    "
      ],
      "text/plain": [
       "<IPython.core.display.Javascript object>"
      ]
     },
     "metadata": {},
     "output_type": "display_data"
    },
    {
     "data": {
      "application/javascript": [
       "\n",
       "        if (window._pyforest_update_imports_cell) { window._pyforest_update_imports_cell('import seaborn as sns\\nimport matplotlib.pyplot as plt'); }\n",
       "    "
      ],
      "text/plain": [
       "<IPython.core.display.Javascript object>"
      ]
     },
     "metadata": {},
     "output_type": "display_data"
    },
    {
     "data": {
      "image/png": "[encoded data removed]",
      "text/plain": [
       "<Figure size 720x288 with 1 Axes>"
      ]
     },
     "metadata": {
      "needs_background": "light"
     },
     "output_type": "display_data"
    }
   ],
   "source": [
    "plt.figure(figsize=(10,4))\n",
    "plt.title('Dice Score by manufacturer')\n",
    "sns.boxplot(data=metrics_fluid, y='dice', x='manufacturer')\n",
    "plt.xlabel('Manufacturer')\n",
    "plt.ylabel('Dice Score')\n",
    "sns.despine()\n",
    "plt.savefig(os.path.join(folder, 'dice.png'), bbox_inches='tight')"
   ]
  },
  {
   "cell_type": "code",
   "execution_count": 45,
   "id": "ccaceb8e",
   "metadata": {},
   "outputs": [
    {
     "data": {
      "application/javascript": [
       "\n",
       "        if (window._pyforest_update_imports_cell) { window._pyforest_update_imports_cell('import seaborn as sns\\nimport matplotlib.pyplot as plt'); }\n",
       "    "
      ],
      "text/plain": [
       "<IPython.core.display.Javascript object>"
      ]
     },
     "metadata": {},
     "output_type": "display_data"
    },
    {
     "data": {
      "application/javascript": [
       "\n",
       "        if (window._pyforest_update_imports_cell) { window._pyforest_update_imports_cell('import seaborn as sns\\nimport matplotlib.pyplot as plt'); }\n",
       "    "
      ],
      "text/plain": [
       "<IPython.core.display.Javascript object>"
      ]
     },
     "metadata": {},
     "output_type": "display_data"
    },
    {
     "data": {
      "application/javascript": [
       "\n",
       "        if (window._pyforest_update_imports_cell) { window._pyforest_update_imports_cell('import seaborn as sns\\nimport matplotlib.pyplot as plt'); }\n",
       "    "
      ],
      "text/plain": [
       "<IPython.core.display.Javascript object>"
      ]
     },
     "metadata": {},
     "output_type": "display_data"
    },
    {
     "data": {
      "application/javascript": [
       "\n",
       "        if (window._pyforest_update_imports_cell) { window._pyforest_update_imports_cell('import seaborn as sns\\nimport matplotlib.pyplot as plt'); }\n",
       "    "
      ],
      "text/plain": [
       "<IPython.core.display.Javascript object>"
      ]
     },
     "metadata": {},
     "output_type": "display_data"
    },
    {
     "data": {
      "application/javascript": [
       "\n",
       "        if (window._pyforest_update_imports_cell) { window._pyforest_update_imports_cell('import seaborn as sns\\nimport matplotlib.pyplot as plt'); }\n",
       "    "
      ],
      "text/plain": [
       "<IPython.core.display.Javascript object>"
      ]
     },
     "metadata": {},
     "output_type": "display_data"
    },
    {
     "data": {
      "application/javascript": [
       "\n",
       "        if (window._pyforest_update_imports_cell) { window._pyforest_update_imports_cell('import seaborn as sns\\nimport matplotlib.pyplot as plt'); }\n",
       "    "
      ],
      "text/plain": [
       "<IPython.core.display.Javascript object>"
      ]
     },
     "metadata": {},
     "output_type": "display_data"
    },
    {
     "data": {
      "application/javascript": [
       "\n",
       "        if (window._pyforest_update_imports_cell) { window._pyforest_update_imports_cell('import seaborn as sns\\nimport matplotlib.pyplot as plt'); }\n",
       "    "
      ],
      "text/plain": [
       "<IPython.core.display.Javascript object>"
      ]
     },
     "metadata": {},
     "output_type": "display_data"
    },
    {
     "data": {
      "image/png": "[encoded data removed]",
      "text/plain": [
       "<Figure size 720x288 with 1 Axes>"
      ]
     },
     "metadata": {
      "needs_background": "light"
     },
     "output_type": "display_data"
    }
   ],
   "source": [
    "plt.figure(figsize=(10,4))\n",
    "plt.title('Accuracy by manufacturer')\n",
    "sns.boxplot(data=metrics_fluid, y='sens', x='manufacturer')\n",
    "plt.xlabel('Manufacturer')\n",
    "plt.ylabel('Sensitivity')\n",
    "sns.despine()\n",
    "plt.savefig(os.path.join(folder, 'sensitivity.png'), bbox_inches='tight')"
   ]
  },
  {
   "cell_type": "code",
   "execution_count": 43,
   "id": "2e51e9b5",
   "metadata": {},
   "outputs": [],
   "source": [
    "folder = '/home/joaquin/Desktop/MAIA/Clases/image-processing/project/image-processing-project/data/figures'"
   ]
  },
  {
   "cell_type": "code",
   "execution_count": 46,
   "id": "9e94db97",
   "metadata": {},
   "outputs": [
    {
     "data": {
      "application/javascript": [
       "\n",
       "        if (window._pyforest_update_imports_cell) { window._pyforest_update_imports_cell('import seaborn as sns\\nimport matplotlib.pyplot as plt'); }\n",
       "    "
      ],
      "text/plain": [
       "<IPython.core.display.Javascript object>"
      ]
     },
     "metadata": {},
     "output_type": "display_data"
    },
    {
     "data": {
      "application/javascript": [
       "\n",
       "        if (window._pyforest_update_imports_cell) { window._pyforest_update_imports_cell('import seaborn as sns\\nimport matplotlib.pyplot as plt'); }\n",
       "    "
      ],
      "text/plain": [
       "<IPython.core.display.Javascript object>"
      ]
     },
     "metadata": {},
     "output_type": "display_data"
    },
    {
     "data": {
      "application/javascript": [
       "\n",
       "        if (window._pyforest_update_imports_cell) { window._pyforest_update_imports_cell('import seaborn as sns\\nimport matplotlib.pyplot as plt'); }\n",
       "    "
      ],
      "text/plain": [
       "<IPython.core.display.Javascript object>"
      ]
     },
     "metadata": {},
     "output_type": "display_data"
    },
    {
     "data": {
      "application/javascript": [
       "\n",
       "        if (window._pyforest_update_imports_cell) { window._pyforest_update_imports_cell('import seaborn as sns\\nimport matplotlib.pyplot as plt'); }\n",
       "    "
      ],
      "text/plain": [
       "<IPython.core.display.Javascript object>"
      ]
     },
     "metadata": {},
     "output_type": "display_data"
    },
    {
     "data": {
      "application/javascript": [
       "\n",
       "        if (window._pyforest_update_imports_cell) { window._pyforest_update_imports_cell('import seaborn as sns\\nimport matplotlib.pyplot as plt'); }\n",
       "    "
      ],
      "text/plain": [
       "<IPython.core.display.Javascript object>"
      ]
     },
     "metadata": {},
     "output_type": "display_data"
    },
    {
     "data": {
      "application/javascript": [
       "\n",
       "        if (window._pyforest_update_imports_cell) { window._pyforest_update_imports_cell('import seaborn as sns\\nimport matplotlib.pyplot as plt'); }\n",
       "    "
      ],
      "text/plain": [
       "<IPython.core.display.Javascript object>"
      ]
     },
     "metadata": {},
     "output_type": "display_data"
    },
    {
     "data": {
      "image/png": "[encoded data removed]",
      "text/plain": [
       "<Figure size 720x288 with 1 Axes>"
      ]
     },
     "metadata": {
      "needs_background": "light"
     },
     "output_type": "display_data"
    }
   ],
   "source": [
    "plt.figure(figsize=(10,4))\n",
    "sns.boxplot(data=metrics_fluid, y='spec', x='manufacturer')\n",
    "plt.xlabel('Manufacturer')\n",
    "plt.ylabel('Specificity')\n",
    "sns.despine()\n",
    "plt.savefig(os.path.join(folder, 'specificy.png'), bbox_inches='tight')"
   ]
  }
 ],
 "metadata": {
  "kernelspec": {
   "display_name": "Python 3 (ipykernel)",
   "language": "python",
   "name": "python3"
  },
  "language_info": {
   "codemirror_mode": {
    "name": "ipython",
    "version": 3
   },
   "file_extension": ".py",
   "mimetype": "text/x-python",
   "name": "python",
   "nbconvert_exporter": "python",
   "pygments_lexer": "ipython3",
   "version": "3.7.12"
  }
 },
 "nbformat": 4,
 "nbformat_minor": 5
}
